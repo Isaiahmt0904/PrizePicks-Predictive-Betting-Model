{
 "cells": [
  {
   "cell_type": "code",
   "execution_count": 371,
   "id": "5a28c1b9-b527-4e11-a57d-9b883f3af89a",
   "metadata": {},
   "outputs": [],
   "source": [
    "import pandas as pd "
   ]
  },
  {
   "cell_type": "code",
   "execution_count": 418,
   "id": "7f1b492e-81a1-4470-b945-ef3934bf7fc4",
   "metadata": {},
   "outputs": [],
   "source": [
    "import os\n",
    "import time\n",
    "import random\n",
    "import warnings\n",
    "from pandas.errors import SettingWithCopyWarning\n",
    "from sklearn.exceptions import UndefinedMetricWarning\n",
    "warnings.filterwarnings(\"ignore\", category=FutureWarning)\n",
    "warnings.filterwarnings(\"ignore\", category=SettingWithCopyWarning)\n",
    "warnings.filterwarnings(\"ignore\", category=UndefinedMetricWarning)\n",
    "import requests\n",
    "os.makedirs('Player5Games', exist_ok=True)\n",
    "\n",
    "basestat_list = ['PTS', 'AST', 'TRB', 'STL', 'BLK', \n",
    "'PTS + AST','PTS + AST + TRB','TRB + AST']"
   ]
  },
  {
   "cell_type": "markdown",
   "id": "c7247773-c85a-4e65-866c-ab14cd65ffef",
   "metadata": {},
   "source": [
    "# Webscraping "
   ]
  },
  {
   "cell_type": "code",
   "execution_count": 419,
   "id": "b951f437-cb41-45e2-8443-76c9e244ffb6",
   "metadata": {},
   "outputs": [],
   "source": [
    "player_directory = 'Wplayer_data'\n",
    "\n",
    "#Ensure directory exists \n",
    "if not os.path.exists(player_directory):\n",
    "    os.makedirs(player_directory)\n",
    "\n",
    "def obtain_rawplayer_data(first_name, last_name):\n",
    "    found_url = False\n",
    "    LN_char = last_name[0].lower()\n",
    "    last_part = (last_name[:5] + first_name[:2]).lower()\n",
    "    unique_number = \"01\"\n",
    "    \n",
    "    # Attempt to construct the initial URL\n",
    "    url = f\"https://www.basketball-reference.com/wnba/players/{LN_char}/{last_part}{unique_number}w.html\"\n",
    "    data = requests.get(url)\n",
    "    \n",
    "    if data.status_code == 404:\n",
    "        # Try with the next unique number\n",
    "        unique_number = \"02\"\n",
    "        url = f\"https://www.basketball-reference.com/wnba/players/{LN_char}/{last_part}{unique_number}w.html\"\n",
    "        data = requests.get(url)  # Fetch data again with updated URL\n",
    "        if data.status_code == 200:\n",
    "            found_url = True\n",
    "        elif data.status_code == 429:\n",
    "            return \"Cooldown Error\"\n",
    "        elif data.status_code != 200:\n",
    "            return \"Different Error\"\n",
    "    elif data.status_code == 429:\n",
    "        return \"Cooldown Error\"\n",
    "    elif data.status_code != 200:\n",
    "        return \"Different Error\"\n",
    "    else:\n",
    "        found_url = True\n",
    "    \n",
    "    # If a valid URL was found, save the data\n",
    "    if found_url:\n",
    "        file_path = os.path.join(player_directory, f\"{first_name} {last_name}.html\")\n",
    "        with open(file_path, \"w+\", encoding='utf-8') as f:\n",
    "            f.write(data.text)\n",
    "        print(f\"File '{file_path}' written successfully.\")\n"
   ]
  },
  {
   "cell_type": "code",
   "execution_count": 420,
   "id": "a9156ef6-d3dd-4c52-97b0-67a363d3b2c9",
   "metadata": {},
   "outputs": [],
   "source": [
    "def isSZNInjured(df): #Outputs true if year was injured  \n",
    "    columns_to_check = [\"PTS\", \"STL\", \"BLK\", \"AST\"]\n",
    "    year_values = df[\"Year\"].unique()\n",
    "    injured_years = [ ] \n",
    "    \n",
    "    for year in year_values:\n",
    "        current_year = df[df['Year'] == year]\n",
    "        if(current_year[columns_to_check] == 0).all().all(): \n",
    "                injured_years.append(year)   \n",
    "    return injured_years"
   ]
  },
  {
   "cell_type": "code",
   "execution_count": 421,
   "id": "17e5463b-3053-4af3-b221-7e2597fc6bb5",
   "metadata": {},
   "outputs": [],
   "source": [
    "from bs4 import BeautifulSoup \n",
    "\n",
    "def extract5games(first_name, last_name): #obtain the df \n",
    "    file_path = os.path.join(player_directory, f\"{first_name} {last_name}.html\")\n",
    "    csv_file_path = os.path.join(player_directory, f\"{first_name}_{last_name}_last_5_games.csv\")\n",
    "    with open(file_path, encoding='utf-8') as f:\n",
    "        page = f.read()\n",
    "    soup = BeautifulSoup(page, \"html.parser\") \n",
    "    Last5_table = soup.find(id = \"div_last5\") \n",
    "    Last_5 = pd.read_html(str(Last5_table))[0]   \n",
    "    #data initialization  \n",
    "    unnamed_cols = [col for col in Last_5.columns if col.startswith(\"Unnamed\")] \n",
    "    Last_5.drop(unnamed_cols, axis = 1, inplace = True)\n",
    "    Last_5.fillna(0, inplace = True)\n",
    "    Last_5.drop([\"ORB\", \"Team\", \"Opp\", \"Result\", \"GS\", \"Date\"], axis = 1, inplace = True) \n",
    "    Last_5['PTS + AST'] = Last_5['PTS'] + Last_5['AST']\n",
    "    Last_5['PTS + AST + TRB'] = Last_5['PTS'] + Last_5['AST'] + Last_5['TRB']\n",
    "    Last_5['TRB + AST'] = Last_5['TRB'] + Last_5['AST']\n",
    "    Last_5['PTS + TRB'] = Last_5['PTS'] + Last_5['TRB']\n",
    "    Last_5 = Last_5.apply(pd.to_numeric, errors = \"coerce\") \n",
    "    Last_5['Player'] = first_name + \" \" + last_name\n",
    "    cols = ['Player'] + [col for col in Last_5 if col != 'Player']\n",
    "    Last_5 = Last_5[cols]\n",
    "    Last_5.to_csv(csv_file_path, index=False)\n",
    "    return Last_5"
   ]
  },
  {
   "cell_type": "markdown",
   "id": "6945c17a-8fe6-4075-9df3-be6026238e8a",
   "metadata": {},
   "source": [
    "# Predictor Construction"
   ]
  },
  {
   "cell_type": "code",
   "execution_count": 422,
   "id": "640cf66b-85a9-42fc-af5d-139b94d3d53e",
   "metadata": {},
   "outputs": [],
   "source": [
    "def extractPergameStats(first_name, last_name): \n",
    "    file_path = os.path.join(player_directory, f\"{first_name} {last_name}.html\")\n",
    "    csv_file_path = os.path.join(player_directory, f\"{first_name}_{last_name}_per_game_stats.csv\")\n",
    "    with open(file_path, encoding='utf-8') as f:\n",
    "        page = f.read()\n",
    "        \n",
    "    soup = BeautifulSoup(page, \"html5lib\") \n",
    "    footer = soup.find(\"tfoot\")\n",
    "    footer.decompose()\n",
    "    PGS_table = soup.find(id = \"per_game0\") \n",
    "    PGS = pd.read_html(str(PGS_table))[0]  \n",
    "    \n",
    "    #data initialization  \n",
    "    PGS.fillna(0, inplace = True) \n",
    "    PGS.replace(to_replace = r'Did Not Play.*', value= 0, regex = True, inplace = True)\n",
    "    unnamed_cols = [col for col in PGS.columns if col.startswith(\"Unnamed\")] \n",
    "    PGS.drop(unnamed_cols, axis = 1, inplace = True)\n",
    "    PGS.drop([\"ORB\", \"Awards\", \"Tm\"], axis = 1, inplace = True)  \n",
    "    # Extract the year if needed\n",
    "    PGS['Year_Only'] = PGS[\"Year\"]\n",
    "    PGS = PGS.apply(pd.to_numeric, errors = \"coerce\")\n",
    "    \n",
    "    PGS['PTS + AST'] = PGS['PTS'] + PGS['AST']\n",
    "    PGS['PTS + AST + TRB'] = PGS['PTS'] + PGS['AST'] + PGS['TRB']\n",
    "    PGS['TRB + AST'] = PGS['TRB'] + PGS['AST']\n",
    "    PGS['PTS + TRB'] = PGS['PTS'] + PGS['TRB']\n",
    "    PGS['Player'] = first_name + \" \" + last_name\n",
    "    cols = ['Player'] + [col for col in PGS if col != 'Player']\n",
    "    PGS = PGS[cols]\n",
    "    injured_years = isSZNInjured(PGS) \n",
    "    if injured_years: #Check if theres injured seasons \n",
    "        PGS = PGS[~PGS[\"Year\"].isin(injured_years)] \n",
    "\n",
    "    \n",
    "   # Convert \"Year\" to datetime\n",
    "    PGS[\"Year\"] = pd.to_datetime(PGS[\"Year\"].astype(str), format='%Y').dt.year \n",
    "    PGS.to_csv(csv_file_path, index=False)\n",
    "    return PGS"
   ]
  },
  {
   "cell_type": "code",
   "execution_count": 423,
   "id": "a788deda-da4a-449d-af96-0bd7f7226892",
   "metadata": {},
   "outputs": [],
   "source": [
    "predictors = ['GS', 'MP', 'FG', 'FGA', 'FG%', '3P', '3PA', '3P%', 'FT', 'FTA', 'FT%',\n",
    "       'DRB', 'TRB', 'AST', 'STL', 'BLK', 'TOV', 'PF', 'PTS', 'GmSc', '+/-',\n",
    "       'PTS + AST', 'PTS + AST + TRB', 'TRB + AST', 'PTS + TRB']"
   ]
  },
  {
   "cell_type": "code",
   "execution_count": 424,
   "id": "3c36924d-695d-4f88-8ca4-fe59dc12d47f",
   "metadata": {},
   "outputs": [],
   "source": [
    "#First predictor: Rolling Average; Lower Weight \n",
    "def predict_From_Avg(target_variable, base_stat, player_df): \n",
    "    if player_df.empty: \n",
    "        raise ValueError(\"No Data found for player.\") \n",
    "\n",
    "    # Ensure the target variable is numeric\n",
    "    player_df[target_variable] = pd.to_numeric(player_df[target_variable], errors='coerce')\n",
    "\n",
    "    \n",
    "    player_df[\"lastAvg\"] = player_df[target_variable].rolling(window = 5).mean() \n",
    "\n",
    "    if player_df[\"lastAvg\"].dropna().empty: \n",
    "        raise ValueError(\"Insufficient data to calculate average\") \n",
    "\n",
    "    last_5avg = player_df[\"lastAvg\"].dropna().iloc[-1] \n",
    "    confidence_weight = 1.0 #Static for averages (Not enough data for LR) \n",
    "    #Make prediction\n",
    "    prediction = 'Over' if last_5avg > base_stat else \"Under\"\n",
    "\n",
    "    return prediction, confidence_weight\n"
   ]
  },
  {
   "cell_type": "markdown",
   "id": "9f03109c-08d7-4a3d-a28c-a14539399959",
   "metadata": {},
   "source": [
    "### Optimal Threshold Calculation (for consistency evaluation) "
   ]
  },
  {
   "cell_type": "code",
   "execution_count": 425,
   "id": "6f279b03-5acf-45bb-a9d7-90ad0289f280",
   "metadata": {},
   "outputs": [
    {
     "name": "stdout",
     "output_type": "stream",
     "text": [
      "Optimal Threshold: 0.1111111111111111\n"
     ]
    }
   ],
   "source": [
    "#Based off of past NBA bet data, calculate the optimized threshold from the basestat to evaluate the consistency of a player\n",
    "import numpy as np  \n",
    "from sklearn.metrics import precision_recall_curve, f1_score \n",
    "\n",
    "# Load and prepare the data\n",
    "BettingDF = pd.read_csv(\"NBA_BettingData.csv\") \n",
    "BettingDF.drop(\"Unnamed: 0\", axis=1, inplace=True)\n",
    "\n",
    "# Map correctness values to binary labels\n",
    "BettingDF[\"Correctness\"] = BettingDF[\"Correctness\"].map({'right': 1, 'wrong': 0})\n",
    "\n",
    "# Extract y_true from the 'Correctness' column\n",
    "y_true = BettingDF[\"Correctness\"].values\n",
    "\n",
    "#Rescale the deviation score to keep them in the scale between 0 and 1 \n",
    "y_scores = 1 / (1 + np.abs(BettingDF[\"Deviation\"].values))\n",
    "\n",
    "# Calculate precision and recall for various thresholds\n",
    "precision, recall, thresholds = precision_recall_curve(y_true, y_scores)\n",
    "\n",
    "# Compute F1 score for each threshold, with safety against division by zero\n",
    "f1_scores = np.where((precision + recall) == 0, 0, 2 * (precision * recall) / (precision + recall))\n",
    "\n",
    "# Handle any NaN values (though np.where should avoid them)\n",
    "f1_scores = np.nan_to_num(f1_scores)\n",
    "\n",
    "# Find the threshold with the highest F1 score\n",
    "if len(thresholds) > 0 and np.max(f1_scores) > 0:  \n",
    "    optimal_idx = np.argmax(f1_scores)\n",
    "    optimal_threshold = thresholds[optimal_idx]\n",
    "    print(f\"Optimal Threshold: {optimal_threshold}\")\n",
    "else:\n",
    "    print(\"No valid optimal threshold found. Check the input data.\")\n",
    "\n"
   ]
  },
  {
   "cell_type": "code",
   "execution_count": 426,
   "id": "bb4b862c-19c8-4b62-ab82-0abb6c8e55de",
   "metadata": {},
   "outputs": [],
   "source": [
    "#Second predictor: Consistency\n",
    "def predict_From_Consistency(target_variable, base_stat, player_df):\n",
    "    if player_df.empty: \n",
    "        raise ValueError(\"No Data found for player.\") \n",
    "    if len(player_df[target_variable]) < 3: \n",
    "        print(\"Insufficient data to calculate consistency.\")\n",
    "        return \"Neither\", 0\n",
    "\n",
    "    #Calculate standard deviation of target variable \n",
    "    SDV = np.std(player_df[target_variable]) \n",
    "\n",
    "    #Simple linear regression on the target variable to assess consistency\n",
    "    X = np.arange(len(player_df[target_variable])).reshape(-1, 1)  # Time (as index)\n",
    "    y = player_df[target_variable].values\n",
    "    model = LinearRegression().fit(X, y)\n",
    "    y_pred = model.predict(X)\n",
    "\n",
    "    #Calculate R-squared value as a measure of consistency\n",
    "    r2 = r2_score(y, y_pred)\n",
    "    \n",
    "    #Determine the confidence weight (you can scale or transform r2 as needed)\n",
    "    confidence_weight = r2\n",
    "\n",
    "    #Compare to the average discrepancy from the base stat based on previous betting data \n",
    "    if optimal_threshold + base_stat < base_stat + SDV:\n",
    "        return \"Under\", confidence_weight \n",
    "    else:\n",
    "        return \"Over\", confidence_weight "
   ]
  },
  {
   "cell_type": "code",
   "execution_count": 427,
   "id": "65714fb3-40a6-47d1-9ac5-c81d5bf7b59b",
   "metadata": {},
   "outputs": [
    {
     "name": "stdout",
     "output_type": "stream",
     "text": [
      "Trend Slope: 0.6\n",
      "Trend Intercept: -1208.1\n"
     ]
    },
    {
     "data": {
      "image/png": "[encoded data removed]",
      "text/plain": [
       "<Figure size 640x480 with 1 Axes>"
      ]
     },
     "metadata": {},
     "output_type": "display_data"
    },
    {
     "name": "stdout",
     "output_type": "stream",
     "text": [
      "0.292738275340389\n"
     ]
    }
   ],
   "source": [
    "#Singular Test \n",
    "import matplotlib.pyplot as plt \n",
    "from sklearn.linear_model import LinearRegression \n",
    "from sklearn.metrics import r2_score\n",
    "years = df[\"Year_Only\"].values.reshape(-1,1) #Reshape for SKLEARN \n",
    "stat = df[\"PTS\"].values #Temporary varaible (change code for this in function) \n",
    "\n",
    "model = LinearRegression() \n",
    "\n",
    "model.fit(years, stat) \n",
    "\n",
    "#Obtain slope and interecept \n",
    "slope = model.coef_[0] \n",
    "\n",
    "intercept = model.intercept_ \n",
    "\n",
    "print(f\"Trend Slope: {slope}\") \n",
    "print(f\"Trend Intercept: {intercept}\") \n",
    "\n",
    "predicted_value = model.predict(years) \n",
    "\n",
    "#Data Visualization \n",
    "plt.scatter(years, stat, color = 'blue', label = 'Actual Stats') \n",
    "plt.plot(years, predicted_value, color = 'green', label = 'Trend Line', linestyle='dashed') \n",
    "plt.xlabel(\"Year\") \n",
    "plt.ylabel(\"Average Stat\") \n",
    "plt.legend() \n",
    "plt.show()\n",
    "\n",
    "r2 = r2_score(stat, predicted_value) \n",
    "\n",
    "print(r2) "
   ]
  },
  {
   "cell_type": "code",
   "execution_count": 428,
   "id": "cac7f361-7115-4e54-a329-9e4e652c93e9",
   "metadata": {},
   "outputs": [],
   "source": [
    "def trendPredictor(target_variable, base_stat, player_df): \n",
    "    # Ensure there are at least two data points for linear regression\n",
    "    if len(player_df) < 2:\n",
    "        print(\"Insufficient data to calculate trend.\")\n",
    "        return \"Neither\", 0\n",
    "    # Ensure the target variable is numeric\n",
    "    player_df[target_variable] = pd.to_numeric(player_df[target_variable], errors='coerce')\n",
    "    \n",
    "    #Debug Statement \n",
    "    if \"Year\" not in player_df.columns:\n",
    "        raise KeyError(\"The column 'Year' is missing from the DataFrame\")\n",
    "    player_df[\"Year\"] = pd.to_datetime(player_df[\"Year\"])\n",
    "\n",
    "    # Drop non-numeric columns for aggregation\n",
    "    numeric_cols = player_df.select_dtypes(include='number').columns\n",
    "    player_df = player_df[numeric_cols]\n",
    "    \n",
    "    \n",
    "    player_df[target_variable] = pd.to_numeric(player_df[target_variable], errors='coerce')\n",
    "    base_stat = pd.to_numeric(base_stat, errors='coerce')\n",
    "    \n",
    "    \n",
    "    #Account for injured years assuming a similar trend for time series \n",
    "    player_df[\"Year_Only\"] = pd.to_datetime(player_df[\"Year_Only\"]) \n",
    "    player_df.set_index(\"Year_Only\", inplace=True)\n",
    "    player_df = player_df.resample('Y').mean().reset_index()\n",
    "    player_df.interpolate(method='linear', limit_direction='forward', axis=0, inplace=True)\n",
    "\n",
    "    #Convert to format Suitable for regression again \n",
    "    player_df[\"Year_Only\"] = player_df[\"Year_Only\"].astype('int64')\n",
    "    \n",
    "    years = player_df[\"Year_Only\"].values.reshape(-1,1) \n",
    "    stats = player_df[target_variable].values \n",
    "\n",
    "    \n",
    "    model = LinearRegression() \n",
    "    model.fit(years, stats) \n",
    "\n",
    "    predicted_value = model.predict(years) #Predict the target variable predicted value based on entire dataset \n",
    "\n",
    "    #Calculate R^2 value \n",
    "\n",
    "    r_squared = r2_score(stats, predicted_value) \n",
    "     \n",
    "    current_year = years[-1].reshape(1,-1) \n",
    "    predicted_value = model.predict(current_year)[0] #First in the list is current year \n",
    "\n",
    "    c_weight = 0.0 \n",
    "    \n",
    "    #Compare it\n",
    "    if predicted_value < base_stat: \n",
    "        prediction = \"Under\"\n",
    "    else: \n",
    "        prediction = \"Over\" \n",
    "        c_weight = 0.5 #Determines the weight of this function output \n",
    "\n",
    "    if r_squared < 0.5: \n",
    "        print(\"Trend:Low Confidence Interval\") \n",
    "    elif r_squared < 0.75: \n",
    "        c_weight = 1.0 \n",
    "        print(\"Trend:Mid Confidence Interval\") \n",
    "    else: \n",
    "        c_weight = 1.5 \n",
    "        print(\"Trend:High Confidence Interval\") \n",
    "\n",
    "    return prediction, c_weight\n"
   ]
  },
  {
   "cell_type": "code",
   "execution_count": 429,
   "id": "c5ed5378-2861-4259-bc24-b7edfe084725",
   "metadata": {},
   "outputs": [],
   "source": [
    "def MP_Predictor(target_variable, base_stat, player_df): \n",
    "    if len(player_df) < 2:\n",
    "        print(\"Insufficient data to calculate trend.\")\n",
    "        return \"Neither\", 0\n",
    "    x = player_df[[\"MP\"]]\n",
    "    y = player_df[target_variable] \n",
    "    x_train, x_test, y_train, y_test = train_test_split(x, y, test_size = 0.2, random_state = 42)\n",
    "    scaler = StandardScaler() \n",
    "    x_train_scaled = scaler.fit_transform(x_train) \n",
    "    x_test_scaled = scaler.transform(x_test) \n",
    "                                                        \n",
    "    model = LinearRegression() \n",
    "    model.fit(x_train_scaled, y_train) #Regress over the training data \n",
    "\n",
    "    #Use the regression to make a prediction on the test data \n",
    "    y_pred = model.predict(x_test_scaled) \n",
    "\n",
    "    r2 = r2_score(y_test, y_pred) \n",
    "\n",
    "    if y_pred.mean() < y_test.mean(): \n",
    "        prediction = \"Under\" \n",
    "    else: \n",
    "        prediction = \"Over\" \n",
    "\n",
    "\n",
    "    if r2 < 0.5: #Determines the weight of this function output based on model effectivity \n",
    "        print(\"MP:Low Confidence Interval\") \n",
    "        c_weight = 0.25\n",
    "    elif r2 < 0.75: \n",
    "        c_weight = 0.5\n",
    "        print(\"MP:Mid Confidence Interval\") \n",
    "    else: \n",
    "        c_weight = 1.0  \n",
    "        print(\"MP:High Confidence Interval\") \n",
    "\n",
    "    return prediction, c_weight \n"
   ]
  },
  {
   "cell_type": "markdown",
   "id": "0ee90148-eb6c-48c6-89c1-530a7fb3b0e3",
   "metadata": {},
   "source": [
    "# Final Decision: Predictor Call"
   ]
  },
  {
   "cell_type": "code",
   "execution_count": 430,
   "id": "9ada84d7-7fa9-42aa-96ef-b25d37ce000b",
   "metadata": {},
   "outputs": [],
   "source": [
    "def ObtainDecision(first_name, last_name, target_variable, base_stat): \n",
    "    final_score = 0 \n",
    "    #Obtain the data(frames)  \n",
    "    Raw_data = obtain_rawplayer_data(first_name, last_name)\n",
    "    Last_5_data = extract5games(first_name, last_name)\n",
    "    PG_data = extractPergameStats(first_name, last_name)\n",
    "    \n",
    "    #Predictor variables \n",
    "    avg_predictor, avg_c_weight = predict_From_Avg(target_variable, base_stat, Last_5_data)\n",
    "    consistency_predictor, consistency_c_weight = predict_From_Consistency(target_variable, base_stat, PG_data)\n",
    "    wide_trend_predictor, w_c_weight = trendPredictor(target_variable, base_stat, PG_data)\n",
    "    MP_predictor, MP_c_weight = MP_Predictor(target_variable, base_stat, PG_data)\n",
    "\n",
    "    #Two-valued array: Indexer will have two values to check within loop \n",
    "    predictors = [(avg_predictor, avg_c_weight),\n",
    "        (consistency_predictor, consistency_c_weight),\n",
    "        (wide_trend_predictor, w_c_weight),\n",
    "        (MP_predictor, MP_c_weight)] \n",
    "    \n",
    "    \n",
    "    #Analysis \n",
    "    for prediction, confidence_weight in predictors: \n",
    "        if(prediction == \"Over\"): \n",
    "            final_score += confidence_weight \n",
    "        elif(prediction == \"Under\"): \n",
    "            final_score -= confidence_weight\n",
    "        else: \n",
    "            final_scMPore = final_score \n",
    "\n",
    "    if final_score > 0: \n",
    "        final_output = \"Recommended Bet: Over\" \n",
    "    else: \n",
    "        final_output = \"Recommended Bet: Under\" \n",
    "    \n",
    "    return final_output\n",
    "\n",
    "    \n",
    "\n"
   ]
  },
  {
   "cell_type": "markdown",
   "id": "fda14574-b514-4856-ae4b-2aba712e4f3e",
   "metadata": {},
   "source": [
    "## Input Player Name, Base Stat Type and Number Here:"
   ]
  },
  {
   "cell_type": "code",
   "execution_count": 431,
   "id": "ba5f0b2e-a8fd-4409-8a98-d384f90b1a01",
   "metadata": {},
   "outputs": [
    {
     "name": "stdout",
     "output_type": "stream",
     "text": [
      "File 'Wplayer_data\\Dearica Hamby.html' written successfully.\n",
      "Trend:High Confidence Interval\n",
      "MP:Low Confidence Interval\n"
     ]
    },
    {
     "data": {
      "text/plain": [
       "'Recommended Bet: Under'"
      ]
     },
     "execution_count": 431,
     "metadata": {},
     "output_type": "execute_result"
    }
   ],
   "source": [
    "#Example \n",
    "ObtainDecision(\"Dearica\", \"Hamby\", \"TRB + AST\", 12.5) "
   ]
  },
  {
   "cell_type": "markdown",
   "id": "e8858d2d-dbc3-4edd-8def-758702577103",
   "metadata": {},
   "source": [
    "### Columns List"
   ]
  },
  {
   "cell_type": "code",
   "execution_count": 432,
   "id": "b8c0b7ab-f11e-4530-a1c9-0c6700110429",
   "metadata": {},
   "outputs": [
    {
     "data": {
      "text/plain": [
       "['PTS',\n",
       " 'AST',\n",
       " 'TRB',\n",
       " 'STL',\n",
       " 'BLK',\n",
       " 'PTS + AST',\n",
       " 'PTS + AST + TRB',\n",
       " 'TRB + AST']"
      ]
     },
     "execution_count": 432,
     "metadata": {},
     "output_type": "execute_result"
    }
   ],
   "source": [
    "basestat_list"
   ]
  },
  {
   "cell_type": "code",
   "execution_count": null,
   "id": "27cf2769-632f-4306-bd38-a18ba3497bb1",
   "metadata": {},
   "outputs": [],
   "source": []
  }
 ],
 "metadata": {
  "kernelspec": {
   "display_name": "Python 3 (ipykernel)",
   "language": "python",
   "name": "python3"
  },
  "language_info": {
   "codemirror_mode": {
    "name": "ipython",
    "version": 3
   },
   "file_extension": ".py",
   "mimetype": "text/x-python",
   "name": "python",
   "nbconvert_exporter": "python",
   "pygments_lexer": "ipython3",
   "version": "3.11.7"
  }
 },
 "nbformat": 4,
 "nbformat_minor": 5
}
